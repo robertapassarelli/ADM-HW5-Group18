{
 "cells": [
  {
   "cell_type": "markdown",
   "metadata": {},
   "source": [
    "# Homework 5 - Visit the Wikipedia hyperlinks graph!\n",
    "## Group #18\n",
    "### Giorgio Zannini Quirini - Roberta Passarelli \n",
    "\n",
    "Our goal is to perform an analysis of the **Wikipedia Hyperlink graph**: we will rank the pages knowing that they belong to a certain category.\n",
    "\n",
    "## Research questions\n",
    "## [RQ1]\n",
    "Building the graph $G = (V, E)$, where:\n",
    "- $V$ is the set of articles\n",
    "- $E$ the hyperlinks among them."
   ]
  },
  {
   "cell_type": "code",
   "execution_count": 1,
   "metadata": {},
   "outputs": [],
   "source": [
    "import networkx as nx\n",
    "import matplotlib.pyplot as plt\n",
    "import pandas as pd\n",
    "from tqdm import tqdm\n",
    "import numpy as np\n",
    "import statistics\n",
    "from collections import Counter \n",
    "from operator import itemgetter"
   ]
  },
  {
   "cell_type": "markdown",
   "metadata": {},
   "source": [
    "First of all, we read the file `wiki-topcats-reduced.txt`."
   ]
  },
  {
   "cell_type": "code",
   "execution_count": 2,
   "metadata": {},
   "outputs": [
    {
     "data": {
      "text/html": [
       "<div>\n",
       "<style scoped>\n",
       "    .dataframe tbody tr th:only-of-type {\n",
       "        vertical-align: middle;\n",
       "    }\n",
       "\n",
       "    .dataframe tbody tr th {\n",
       "        vertical-align: top;\n",
       "    }\n",
       "\n",
       "    .dataframe thead th {\n",
       "        text-align: right;\n",
       "    }\n",
       "</style>\n",
       "<table border=\"1\" class=\"dataframe\">\n",
       "  <thead>\n",
       "    <tr style=\"text-align: right;\">\n",
       "      <th></th>\n",
       "      <th>0</th>\n",
       "      <th>1</th>\n",
       "    </tr>\n",
       "  </thead>\n",
       "  <tbody>\n",
       "    <tr>\n",
       "      <th>0</th>\n",
       "      <td>52</td>\n",
       "      <td>401135</td>\n",
       "    </tr>\n",
       "    <tr>\n",
       "      <th>1</th>\n",
       "      <td>52</td>\n",
       "      <td>1069112</td>\n",
       "    </tr>\n",
       "    <tr>\n",
       "      <th>2</th>\n",
       "      <td>52</td>\n",
       "      <td>1163551</td>\n",
       "    </tr>\n",
       "    <tr>\n",
       "      <th>3</th>\n",
       "      <td>62</td>\n",
       "      <td>12162</td>\n",
       "    </tr>\n",
       "    <tr>\n",
       "      <th>4</th>\n",
       "      <td>62</td>\n",
       "      <td>167659</td>\n",
       "    </tr>\n",
       "  </tbody>\n",
       "</table>\n",
       "</div>"
      ],
      "text/plain": [
       "    0        1\n",
       "0  52   401135\n",
       "1  52  1069112\n",
       "2  52  1163551\n",
       "3  62    12162\n",
       "4  62   167659"
      ]
     },
     "execution_count": 2,
     "metadata": {},
     "output_type": "execute_result"
    }
   ],
   "source": [
    "reduced = pd.read_csv('wiki-topcats-reduced.txt', sep = '\\t', header = None)\n",
    "reduced.head()"
   ]
  },
  {
   "cell_type": "markdown",
   "metadata": {},
   "source": [
    "We create two dictionaries: `graph1` with the following structure:\n",
    "- key: the number of vertice of departure in the column `0`;\n",
    "- value: the number of vertice of arrival in the column `1`;\n",
    "\n",
    "and `graph2` with the following structure:\n",
    "- key: the number of vertice of departure in the column `1`;\n",
    "- value: the number of vertice of arrival in the column `0`."
   ]
  },
  {
   "cell_type": "code",
   "execution_count": 3,
   "metadata": {},
   "outputs": [],
   "source": [
    "graph1 = {}\n",
    "graph2 = {}\n",
    "for node_1_2 in reduced.values:\n",
    "    if node_1_2[0] not in graph1:\n",
    "        graph1[node_1_2[0]] = [node_1_2[1]]\n",
    "    else:\n",
    "        graph1[node_1_2[0]].append(node_1_2[1])\n",
    "        \n",
    "    if node_1_2[1] not in graph2:\n",
    "        graph2[node_1_2[1]] = [node_1_2[0]]\n",
    "    else:\n",
    "        graph2[node_1_2[1]].append(node_1_2[0])"
   ]
  },
  {
   "cell_type": "markdown",
   "metadata": {},
   "source": [
    "- Graph is **directed**.\n",
    "\n",
    "A graph is undirected if all the edges are bidirectional. So, to prove the graph is directed, we can show that exists at least one edge that is not bidirectional, i.e. if one key of `graph1` is not contained in `graph2`.\n",
    "\n",
    "E.g. the node `52` is contained in `graph1`, so there is one edge that starts from this node, but this is not contained in `graph2`, therefore the entire graph is directed.\n",
    "\n",
    "We can, then, control if there is at least one element that is not contained in both keys' list."
   ]
  },
  {
   "cell_type": "code",
   "execution_count": 4,
   "metadata": {},
   "outputs": [
    {
     "data": {
      "text/plain": [
       "False"
      ]
     },
     "execution_count": 4,
     "metadata": {},
     "output_type": "execute_result"
    }
   ],
   "source": [
    "sorted(graph1.keys()) == sorted(graph2.keys()) "
   ]
  },
  {
   "cell_type": "markdown",
   "metadata": {},
   "source": [
    "- The number of **nodes** is the union of the sets that contain the unique keys for both `graph1` and `graph2`."
   ]
  },
  {
   "cell_type": "code",
   "execution_count": 5,
   "metadata": {},
   "outputs": [
    {
     "data": {
      "text/plain": [
       "461193"
      ]
     },
     "execution_count": 5,
     "metadata": {},
     "output_type": "execute_result"
    }
   ],
   "source": [
    "V = len(set.union(set(graph1.keys()),set(graph2.keys())))\n",
    "V"
   ]
  },
  {
   "cell_type": "markdown",
   "metadata": {},
   "source": [
    "- The number of **edges** is the length of the dataset `reduced`."
   ]
  },
  {
   "cell_type": "code",
   "execution_count": 6,
   "metadata": {},
   "outputs": [
    {
     "data": {
      "text/plain": [
       "2645247"
      ]
     },
     "execution_count": 6,
     "metadata": {},
     "output_type": "execute_result"
    }
   ],
   "source": [
    "E = len(reduced) \n",
    "E"
   ]
  },
  {
   "cell_type": "markdown",
   "metadata": {},
   "source": [
    "- **Average** node **degree** and **density**: for a directed graph the average degree is the number of edges $E$ divided by the number nodes $V$."
   ]
  },
  {
   "cell_type": "code",
   "execution_count": 7,
   "metadata": {},
   "outputs": [
    {
     "data": {
      "text/plain": [
       "5.735661642739591"
      ]
     },
     "execution_count": 7,
     "metadata": {},
     "output_type": "execute_result"
    }
   ],
   "source": [
    "avg_degree = E/V \n",
    "avg_degree"
   ]
  },
  {
   "cell_type": "markdown",
   "metadata": {},
   "source": [
    "The graph is not dense. \n",
    "\n",
    "To compute the density in a directed graph: $D={\\frac{|E|}{|V|\\,(|V|-1)}}$, where $E$ is the number of edges and $V$ is the number of vertices in the graph."
   ]
  },
  {
   "cell_type": "code",
   "execution_count": 8,
   "metadata": {},
   "outputs": [
    {
     "data": {
      "text/plain": [
       "1.2436602635647606e-05"
      ]
     },
     "execution_count": 8,
     "metadata": {},
     "output_type": "execute_result"
    }
   ],
   "source": [
    "density = E/(V*(V-1))\n",
    "density"
   ]
  },
  {
   "cell_type": "markdown",
   "metadata": {},
   "source": [
    "## [RQ2]\n",
    "### Categories ranking\n",
    "We create the graph `G` using the function `from_pandas_edgelist` from the package *NetworkX* and the dictionary `G_dict` with the following structure:\n",
    "- key: the nodes of the graph;\n",
    "- value: the neighbors of the node."
   ]
  },
  {
   "cell_type": "code",
   "execution_count": 9,
   "metadata": {},
   "outputs": [],
   "source": [
    "G = nx.from_pandas_edgelist(reduced, 0, 1, create_using = nx.DiGraph()) \n",
    "G_dict = {node:{i for i in G.neighbors(node)} for node in G.nodes} "
   ]
  },
  {
   "cell_type": "markdown",
   "metadata": {},
   "source": [
    "After the download of the `wiki-topcats-categories.txt`, we create a dictionary `cats` where:\n",
    "- key: the name of the categories;\n",
    "- value: the id of the page belonging to the category.\n",
    "\n",
    "The dictionary is cleaned by turning the strings of the page id's into integers and then filtered by whether they are in `G_dict`."
   ]
  },
  {
   "cell_type": "code",
   "execution_count": 10,
   "metadata": {},
   "outputs": [],
   "source": [
    "cats = {}\n",
    "\n",
    "with open('wiki-topcats-categories.txt','r') as categories:\n",
    "    for line in categories:\n",
    "        pages = line[line.index(';')+2:].split(' ') # List of pages id's as strings\n",
    "        pages = [int(page.replace('\\n','')) for page in pages if page.isdigit() == True]\n",
    "        \n",
    "        if len(pages) >= 3500:\n",
    "            # The name of the category is in between the : and ;\n",
    "            cats[line[line.index(':')+1:line.index(';')]] = [page for page in pages  if page in G_dict]"
   ]
  },
  {
   "cell_type": "markdown",
   "metadata": {},
   "source": [
    "Here we define our version of the **Breadth First Search** algorithm: it keeps track of the number of steps it is needed to get from the starting node to any other node of the graph."
   ]
  },
  {
   "cell_type": "code",
   "execution_count": 11,
   "metadata": {},
   "outputs": [],
   "source": [
    "def bfs(graph, start):\n",
    "    visited = set() # Set of the visited nodes\n",
    "    queue = [start] # List of unvisited nodes\n",
    "    levels_of_nodes = {} # -key: node -value: number of steps from start to node\n",
    "    current_level = 0\n",
    "    \n",
    "    while queue: # While there are unvisited nodes\n",
    "        neig_list = [] # List of neighbours of the nodes\n",
    "        for node in queue:\n",
    "            if node not in visited:\n",
    "                visited.add(node)\n",
    "                neighbours = graph[node]\n",
    "                neig_list.extend(neighbours - visited) # Put on `neig_list` only the unvisited neighbours \n",
    "                levels_of_nodes[node] = current_level # Mapping to node the number of steps\n",
    "        # When the nodes in queue are all passed in the for loop, they are not deleted from the queue  \n",
    "        # so, we have to reinitialize it\n",
    "        queue = [] \n",
    "        queue.extend(neig_list)\n",
    "        current_level += 1\n",
    "            \n",
    "    return levels_of_nodes"
   ]
  },
  {
   "cell_type": "markdown",
   "metadata": {},
   "source": [
    "We let the user choose category $\\text{C}_0$ from the list of categories. "
   ]
  },
  {
   "cell_type": "code",
   "execution_count": 12,
   "metadata": {},
   "outputs": [
    {
     "name": "stdout",
     "output_type": "stream",
     "text": [
      "English_footballers\n"
     ]
    }
   ],
   "source": [
    "C_0 = input()"
   ]
  },
  {
   "cell_type": "markdown",
   "metadata": {},
   "source": [
    "We can now apply the `bfs` function to the nodes of the input category and we append the returned dictionaries of nodes and number of steps to a list."
   ]
  },
  {
   "cell_type": "code",
   "execution_count": 13,
   "metadata": {},
   "outputs": [
    {
     "name": "stderr",
     "output_type": "stream",
     "text": [
      "100%|██████████| 7537/7537 [1:22:26<00:00,  1.37it/s]\n"
     ]
    }
   ],
   "source": [
    "lst_of_dicts = []\n",
    "\n",
    "for node in tqdm(cats[C_0]): \n",
    "    levels_of_nodes = bfs(G_dict, node)\n",
    "    lst_of_dicts.append(levels_of_nodes)"
   ]
  },
  {
   "cell_type": "markdown",
   "metadata": {},
   "source": [
    "Here, a new dictionary `shortest_paths` is created, containing the nodes and their relative shortest path from every node of the input category."
   ]
  },
  {
   "cell_type": "code",
   "execution_count": 14,
   "metadata": {},
   "outputs": [],
   "source": [
    "shortest_paths = {}\n",
    "\n",
    "for dic in lst_of_dicts:\n",
    "    for node, level in dic.items():\n",
    "        if node not in shortest_paths:\n",
    "            shortest_paths[node] = [level] \n",
    "        else:\n",
    "            shortest_paths[node].append(level)"
   ]
  },
  {
   "cell_type": "markdown",
   "metadata": {},
   "source": [
    "The dictionary `cats_paths` containes the set of all the possible shortest paths between the nodes of category $\\text{C}_0$ and the remaining."
   ]
  },
  {
   "cell_type": "code",
   "execution_count": 15,
   "metadata": {
    "scrolled": true
   },
   "outputs": [],
   "source": [
    "cats_paths = {cat:[] for cat in cats if cat != C_0} \n",
    "\n",
    "for cat in cats:\n",
    "    if cat != C_0:\n",
    "        for node in cats[cat]:\n",
    "            if node in shortest_paths:\n",
    "                cats_paths[cat].extend(list(filter(lambda x: x != 0, shortest_paths[node])))"
   ]
  },
  {
   "cell_type": "markdown",
   "metadata": {},
   "source": [
    "Now, for every category the median of the shortest paths is computed using the function `median` from the package *statistics* and divided by the lenght of the amount of the nodes that are not connected to the others. Then the categories are sorted by the distance from the input category obtained in this way."
   ]
  },
  {
   "cell_type": "code",
   "execution_count": 16,
   "metadata": {},
   "outputs": [],
   "source": [
    "median_dict = {}\n",
    "\n",
    "for cat, paths in cats_paths.items():\n",
    "    median_dict[cat] = statistics.median(paths) / len(str(len(cats[cat])*len(cats[C_0])-len(cats_paths[cat])))\n",
    "    \n",
    "median_lst = sorted(median_dict.items(), key=itemgetter(1))"
   ]
  },
  {
   "cell_type": "markdown",
   "metadata": {},
   "source": [
    "Finally, this is the resulting order."
   ]
  },
  {
   "cell_type": "code",
   "execution_count": 17,
   "metadata": {},
   "outputs": [
    {
     "data": {
      "text/plain": [
       "['English_footballers',\n",
       " 'Living_people',\n",
       " 'The_Football_League_players',\n",
       " 'Association_football_forwards',\n",
       " 'Association_football_midfielders',\n",
       " 'Article_Feedback_Pilot',\n",
       " 'Association_football_goalkeepers',\n",
       " 'Association_football_defenders',\n",
       " 'Harvard_University_alumni',\n",
       " 'Major_League_Baseball_pitchers',\n",
       " 'English_cricketers',\n",
       " 'English-language_albums',\n",
       " 'English-language_films',\n",
       " 'American_films',\n",
       " 'Fellows_of_the_Royal_Society',\n",
       " 'People_from_New_York_City',\n",
       " 'American_television_actors',\n",
       " 'American_film_actors',\n",
       " 'Black-and-white_films',\n",
       " 'Place_of_birth_missing_(living_people)',\n",
       " 'American_military_personnel_of_World_War_II',\n",
       " 'Year_of_birth_missing_(living_people)',\n",
       " 'Members_of_the_United_Kingdom_Parliament_for_English_constituencies',\n",
       " 'English_television_actors',\n",
       " 'British_films',\n",
       " 'American_Jews',\n",
       " 'Year_of_birth_unknown',\n",
       " 'Year_of_death_missing',\n",
       " 'Rivers_of_Romania',\n",
       " 'Debut_albums',\n",
       " 'Year_of_birth_missing',\n",
       " 'Windows_games',\n",
       " 'Indian_films',\n",
       " 'Main_Belt_asteroids',\n",
       " 'Asteroids_named_for_people']"
      ]
     },
     "execution_count": 17,
     "metadata": {},
     "output_type": "execute_result"
    }
   ],
   "source": [
    "block_rank = [C_0] + [item[0] for item in median_lst]\n",
    "block_rank"
   ]
  },
  {
   "cell_type": "markdown",
   "metadata": {},
   "source": [
    "Now, we clean the dictionary of the categories and pages `cats`: if a page is contained in more than one category, it will stay in the closest one to the input category while the others will be removed."
   ]
  },
  {
   "cell_type": "code",
   "execution_count": 18,
   "metadata": {},
   "outputs": [],
   "source": [
    "visited = set()\n",
    "\n",
    "for cat in block_rank:\n",
    "    for node in cats[cat]:\n",
    "        if node not in visited:\n",
    "            visited.add(node)\n",
    "        else:\n",
    "            cats[cat].remove(node)"
   ]
  },
  {
   "cell_type": "markdown",
   "metadata": {},
   "source": [
    "Once obtained the `block_rank` vector, we want to order the nodes in each category.\n",
    "\n",
    "### Nodes ranking\n",
    "\n",
    "First of all, we create the nested dictionary `counters_of_cats` that maps every category to a dictionary of nodes and respective weight computed summing the number of the in-edges belonging to the same category."
   ]
  },
  {
   "cell_type": "code",
   "execution_count": 19,
   "metadata": {},
   "outputs": [],
   "source": [
    "counters_of_cats = {}\n",
    "\n",
    "for i in range(len(block_rank)):\n",
    "    nodes_C_i = [node for node in cats[block_rank[i]]]\n",
    "    # The `subgraph` function computes the subgraph induced by the category C_i of the graph G\n",
    "    sub_graph = G.subgraph(nodes_C_i)\n",
    "    # `sub_graph_dict` is the dictionary that associates to every node its neighbors\n",
    "    sub_graph_dict = {node: [neig for neig in sub_graph.neighbors(node)] for node in nodes_C_i}\n",
    "    # `flat_lst` contains the nodes repeated for every time they are neighbors of other nodes\n",
    "    flat_lst = [neig for set_ in sub_graph_dict.values() for neig in set_]\n",
    "    # `dict_weight_C_i` counts the number of times the node is a neighbor of other node\n",
    "    dict_weight_C_i = Counter(flat_lst)\n",
    "    counters_of_cats[block_rank[i]] = dict_weight_C_i"
   ]
  },
  {
   "cell_type": "markdown",
   "metadata": {},
   "source": [
    "The dictionary `pred_dict` has the following structure:\n",
    "- key: node of the graph $G$;\n",
    "- value: a set of the predecessors of the node.\n",
    "\n",
    "For every node in `counters_of_cats`, if a predecessor of it is in the previous category, its weight is added to the node's one."
   ]
  },
  {
   "cell_type": "code",
   "execution_count": 20,
   "metadata": {},
   "outputs": [],
   "source": [
    "pred_dict = {node:{pred for pred in G.predecessors(node)} for node in G.nodes}\n",
    "\n",
    "for i in range(1, len(block_rank)): # Start from the second category\n",
    "    for node in counters_of_cats[block_rank[i]]:\n",
    "        for pred in pred_dict[node]:\n",
    "            counters_of_cats[block_rank[i]][node] += counters_of_cats[block_rank[i-1]][pred] # Adding the weight     "
   ]
  },
  {
   "cell_type": "markdown",
   "metadata": {},
   "source": [
    "The results are then sorted by their weight."
   ]
  },
  {
   "cell_type": "code",
   "execution_count": 21,
   "metadata": {},
   "outputs": [],
   "source": [
    "result = {}\n",
    "\n",
    "for cat,rank_dict in counters_of_cats.items():\n",
    "    rank = sorted(rank_dict.items(), key=itemgetter(1), reverse=True)\n",
    "    result[cat] = rank"
   ]
  },
  {
   "cell_type": "markdown",
   "metadata": {},
   "source": [
    "Since every node in `counters_of_cats` corresponds to a certain page, we open the file `wiki-topcats-page-names.txt` and we extract the page names.\n",
    "\n",
    "Finally, we show the first three most ranked pages for every category."
   ]
  },
  {
   "cell_type": "code",
   "execution_count": 22,
   "metadata": {},
   "outputs": [
    {
     "data": {
      "text/html": [
       "<div>\n",
       "<style scoped>\n",
       "    .dataframe tbody tr th:only-of-type {\n",
       "        vertical-align: middle;\n",
       "    }\n",
       "\n",
       "    .dataframe tbody tr th {\n",
       "        vertical-align: top;\n",
       "    }\n",
       "\n",
       "    .dataframe thead th {\n",
       "        text-align: right;\n",
       "    }\n",
       "</style>\n",
       "<table border=\"1\" class=\"dataframe\">\n",
       "  <thead>\n",
       "    <tr style=\"text-align: right;\">\n",
       "      <th></th>\n",
       "      <th>First</th>\n",
       "      <th>Second</th>\n",
       "      <th>Third</th>\n",
       "    </tr>\n",
       "  </thead>\n",
       "  <tbody>\n",
       "    <tr>\n",
       "      <th>English_footballers</th>\n",
       "      <td>Glenn Hoddle</td>\n",
       "      <td>Terry Venables</td>\n",
       "      <td>Brian Clough</td>\n",
       "    </tr>\n",
       "    <tr>\n",
       "      <th>Living_people</th>\n",
       "      <td>George W. Bush</td>\n",
       "      <td>Barack Obama</td>\n",
       "      <td>Bill Clinton</td>\n",
       "    </tr>\n",
       "    <tr>\n",
       "      <th>The_Football_League_players</th>\n",
       "      <td>Kevin Keegan</td>\n",
       "      <td>Glenn Hoddle</td>\n",
       "      <td>Kenny Dalglish</td>\n",
       "    </tr>\n",
       "    <tr>\n",
       "      <th>Association_football_forwards</th>\n",
       "      <td>Kenny Dalglish</td>\n",
       "      <td>Alan Shearer</td>\n",
       "      <td>Robbie Fowler</td>\n",
       "    </tr>\n",
       "    <tr>\n",
       "      <th>Association_football_midfielders</th>\n",
       "      <td>David Beckham</td>\n",
       "      <td>George Best</td>\n",
       "      <td>Roy Keane</td>\n",
       "    </tr>\n",
       "    <tr>\n",
       "      <th>Article_Feedback_Pilot</th>\n",
       "      <td>Arsenal F.C.</td>\n",
       "      <td>Sky Sports</td>\n",
       "      <td>West Ham United F.C.</td>\n",
       "    </tr>\n",
       "    <tr>\n",
       "      <th>Association_football_goalkeepers</th>\n",
       "      <td>Goalkeeper (association football)</td>\n",
       "      <td>ukasz Fabiaski</td>\n",
       "      <td>Manuel Almunia</td>\n",
       "    </tr>\n",
       "    <tr>\n",
       "      <th>Association_football_defenders</th>\n",
       "      <td>Sbastien Squillaci</td>\n",
       "      <td>Laurent Koscielny</td>\n",
       "      <td>Fernando Hierro</td>\n",
       "    </tr>\n",
       "    <tr>\n",
       "      <th>Harvard_University_alumni</th>\n",
       "      <td>John F. Kennedy</td>\n",
       "      <td>Theodore Roosevelt</td>\n",
       "      <td>John Adams</td>\n",
       "    </tr>\n",
       "    <tr>\n",
       "      <th>Major_League_Baseball_pitchers</th>\n",
       "      <td>Babe Ruth</td>\n",
       "      <td>Sandy Koufax</td>\n",
       "      <td>Cy Young</td>\n",
       "    </tr>\n",
       "    <tr>\n",
       "      <th>English_cricketers</th>\n",
       "      <td>Arthur Haygarth</td>\n",
       "      <td>W. G. Grace</td>\n",
       "      <td>Harry Altham</td>\n",
       "    </tr>\n",
       "    <tr>\n",
       "      <th>English-language_albums</th>\n",
       "      <td>Sgt. Pepper's Lonely Hearts Club Band</td>\n",
       "      <td>The Beatles (album)</td>\n",
       "      <td>Pet Sounds</td>\n",
       "    </tr>\n",
       "    <tr>\n",
       "      <th>English-language_films</th>\n",
       "      <td>The Wizard of Oz (1939 film)</td>\n",
       "      <td>Titanic (1997 film)</td>\n",
       "      <td>2001: A Space Odyssey (film)</td>\n",
       "    </tr>\n",
       "    <tr>\n",
       "      <th>American_films</th>\n",
       "      <td>Citizen Kane</td>\n",
       "      <td>Ben-Hur (1959 film)</td>\n",
       "      <td>Halloween (1978 film)</td>\n",
       "    </tr>\n",
       "    <tr>\n",
       "      <th>Fellows_of_the_Royal_Society</th>\n",
       "      <td>Royal Society</td>\n",
       "      <td>Arthur Wellesley, 1st Duke of Wellington</td>\n",
       "      <td>Benjamin Franklin</td>\n",
       "    </tr>\n",
       "    <tr>\n",
       "      <th>People_from_New_York_City</th>\n",
       "      <td>William Bourke Cockran</td>\n",
       "      <td>Henry James</td>\n",
       "      <td>Theodore Roosevelt</td>\n",
       "    </tr>\n",
       "    <tr>\n",
       "      <th>American_television_actors</th>\n",
       "      <td>Marlon Brando</td>\n",
       "      <td>Lucille Ball</td>\n",
       "      <td>Clint Eastwood</td>\n",
       "    </tr>\n",
       "    <tr>\n",
       "      <th>American_film_actors</th>\n",
       "      <td>John Wayne</td>\n",
       "      <td>Frank Sinatra</td>\n",
       "      <td>Marlon Brando</td>\n",
       "    </tr>\n",
       "    <tr>\n",
       "      <th>Black-and-white_films</th>\n",
       "      <td>A Streetcar Named Desire (1951 film)</td>\n",
       "      <td>Twelve O'Clock High</td>\n",
       "      <td>Judgment at Nuremberg</td>\n",
       "    </tr>\n",
       "    <tr>\n",
       "      <th>Place_of_birth_missing_(living_people)</th>\n",
       "      <td>Lorraine Broderick</td>\n",
       "      <td>Francisco Bustamante</td>\n",
       "      <td>John McNee</td>\n",
       "    </tr>\n",
       "    <tr>\n",
       "      <th>American_military_personnel_of_World_War_II</th>\n",
       "      <td>John F. Kennedy</td>\n",
       "      <td>Dwight D. Eisenhower</td>\n",
       "      <td>Lyndon B. Johnson</td>\n",
       "    </tr>\n",
       "    <tr>\n",
       "      <th>Year_of_birth_missing_(living_people)</th>\n",
       "      <td>Brian Azzarello</td>\n",
       "      <td>Miranda Lee</td>\n",
       "      <td>Diana Hamilton</td>\n",
       "    </tr>\n",
       "    <tr>\n",
       "      <th>Members_of_the_United_Kingdom_Parliament_for_English_constituencies</th>\n",
       "      <td>Stanley Baldwin</td>\n",
       "      <td>Edward Heath</td>\n",
       "      <td>Clement Attlee</td>\n",
       "    </tr>\n",
       "    <tr>\n",
       "      <th>English_television_actors</th>\n",
       "      <td>Anthony Andrews</td>\n",
       "      <td>Peter Barkworth</td>\n",
       "      <td>David Waller</td>\n",
       "    </tr>\n",
       "    <tr>\n",
       "      <th>British_films</th>\n",
       "      <td>Cinema of the United Kingdom</td>\n",
       "      <td>Hamlet (1948 film)</td>\n",
       "      <td>Richard III (1955 film)</td>\n",
       "    </tr>\n",
       "    <tr>\n",
       "      <th>American_Jews</th>\n",
       "      <td>Stanley Kubrick</td>\n",
       "      <td>Billy Wilder</td>\n",
       "      <td>Andrew Garfield</td>\n",
       "    </tr>\n",
       "    <tr>\n",
       "      <th>Year_of_birth_unknown</th>\n",
       "      <td>Diogenes Lartius</td>\n",
       "      <td>Pausanias (geographer)</td>\n",
       "      <td>Theocritus</td>\n",
       "    </tr>\n",
       "    <tr>\n",
       "      <th>Year_of_death_missing</th>\n",
       "      <td>Harry Clarke (footballer)</td>\n",
       "      <td>Billy Libbis</td>\n",
       "      <td>Jack L. Collins</td>\n",
       "    </tr>\n",
       "    <tr>\n",
       "      <th>Rivers_of_Romania</th>\n",
       "      <td>Olt River</td>\n",
       "      <td>Mure River</td>\n",
       "      <td>Bistria River (Siret)</td>\n",
       "    </tr>\n",
       "    <tr>\n",
       "      <th>Debut_albums</th>\n",
       "      <td>The Chronic</td>\n",
       "      <td>Doggystyle</td>\n",
       "      <td>Fallen (Evanescence album)</td>\n",
       "    </tr>\n",
       "    <tr>\n",
       "      <th>Year_of_birth_missing</th>\n",
       "      <td>John Longland</td>\n",
       "      <td>Ralph Neville</td>\n",
       "      <td>Emlyn Jenkins</td>\n",
       "    </tr>\n",
       "    <tr>\n",
       "      <th>Windows_games</th>\n",
       "      <td>Half-Life (video game)</td>\n",
       "      <td>Half-Life 2</td>\n",
       "      <td>Myst</td>\n",
       "    </tr>\n",
       "    <tr>\n",
       "      <th>Indian_films</th>\n",
       "      <td>Amar Akbar Anthony</td>\n",
       "      <td>Sholay</td>\n",
       "      <td>Chhalia</td>\n",
       "    </tr>\n",
       "    <tr>\n",
       "      <th>Main_Belt_asteroids</th>\n",
       "      <td>Asteroid belt</td>\n",
       "      <td>Cybele asteroid</td>\n",
       "      <td>3351 Smith</td>\n",
       "    </tr>\n",
       "    <tr>\n",
       "      <th>Asteroids_named_for_people</th>\n",
       "      <td>3353 Jarvis</td>\n",
       "      <td>3356 Resnik</td>\n",
       "      <td>3354 McNair</td>\n",
       "    </tr>\n",
       "  </tbody>\n",
       "</table>\n",
       "</div>"
      ],
      "text/plain": [
       "                                                                                    First  \\\n",
       "English_footballers                                                          Glenn Hoddle   \n",
       "Living_people                                                              George W. Bush   \n",
       "The_Football_League_players                                                  Kevin Keegan   \n",
       "Association_football_forwards                                              Kenny Dalglish   \n",
       "Association_football_midfielders                                            David Beckham   \n",
       "Article_Feedback_Pilot                                                       Arsenal F.C.   \n",
       "Association_football_goalkeepers                        Goalkeeper (association football)   \n",
       "Association_football_defenders                                         Sbastien Squillaci   \n",
       "Harvard_University_alumni                                                 John F. Kennedy   \n",
       "Major_League_Baseball_pitchers                                                  Babe Ruth   \n",
       "English_cricketers                                                        Arthur Haygarth   \n",
       "English-language_albums                             Sgt. Pepper's Lonely Hearts Club Band   \n",
       "English-language_films                                       The Wizard of Oz (1939 film)   \n",
       "American_films                                                               Citizen Kane   \n",
       "Fellows_of_the_Royal_Society                                                Royal Society   \n",
       "People_from_New_York_City                                          William Bourke Cockran   \n",
       "American_television_actors                                                  Marlon Brando   \n",
       "American_film_actors                                                           John Wayne   \n",
       "Black-and-white_films                                A Streetcar Named Desire (1951 film)   \n",
       "Place_of_birth_missing_(living_people)                                 Lorraine Broderick   \n",
       "American_military_personnel_of_World_War_II                               John F. Kennedy   \n",
       "Year_of_birth_missing_(living_people)                                     Brian Azzarello   \n",
       "Members_of_the_United_Kingdom_Parliament_for_En...                        Stanley Baldwin   \n",
       "English_television_actors                                                 Anthony Andrews   \n",
       "British_films                                                Cinema of the United Kingdom   \n",
       "American_Jews                                                             Stanley Kubrick   \n",
       "Year_of_birth_unknown                                                    Diogenes Lartius   \n",
       "Year_of_death_missing                                           Harry Clarke (footballer)   \n",
       "Rivers_of_Romania                                                               Olt River   \n",
       "Debut_albums                                                                  The Chronic   \n",
       "Year_of_birth_missing                                                       John Longland   \n",
       "Windows_games                                                      Half-Life (video game)   \n",
       "Indian_films                                                           Amar Akbar Anthony   \n",
       "Main_Belt_asteroids                                                         Asteroid belt   \n",
       "Asteroids_named_for_people                                                    3353 Jarvis   \n",
       "\n",
       "                                                                                      Second  \\\n",
       "English_footballers                                                           Terry Venables   \n",
       "Living_people                                                                   Barack Obama   \n",
       "The_Football_League_players                                                     Glenn Hoddle   \n",
       "Association_football_forwards                                                   Alan Shearer   \n",
       "Association_football_midfielders                                                 George Best   \n",
       "Article_Feedback_Pilot                                                            Sky Sports   \n",
       "Association_football_goalkeepers                                              ukasz Fabiaski   \n",
       "Association_football_defenders                                             Laurent Koscielny   \n",
       "Harvard_University_alumni                                                 Theodore Roosevelt   \n",
       "Major_League_Baseball_pitchers                                                  Sandy Koufax   \n",
       "English_cricketers                                                               W. G. Grace   \n",
       "English-language_albums                                                  The Beatles (album)   \n",
       "English-language_films                                                   Titanic (1997 film)   \n",
       "American_films                                                           Ben-Hur (1959 film)   \n",
       "Fellows_of_the_Royal_Society                        Arthur Wellesley, 1st Duke of Wellington   \n",
       "People_from_New_York_City                                                        Henry James   \n",
       "American_television_actors                                                      Lucille Ball   \n",
       "American_film_actors                                                           Frank Sinatra   \n",
       "Black-and-white_films                                                    Twelve O'Clock High   \n",
       "Place_of_birth_missing_(living_people)                                  Francisco Bustamante   \n",
       "American_military_personnel_of_World_War_II                             Dwight D. Eisenhower   \n",
       "Year_of_birth_missing_(living_people)                                            Miranda Lee   \n",
       "Members_of_the_United_Kingdom_Parliament_for_En...                              Edward Heath   \n",
       "English_television_actors                                                    Peter Barkworth   \n",
       "British_films                                                             Hamlet (1948 film)   \n",
       "American_Jews                                                                   Billy Wilder   \n",
       "Year_of_birth_unknown                                                 Pausanias (geographer)   \n",
       "Year_of_death_missing                                                           Billy Libbis   \n",
       "Rivers_of_Romania                                                                 Mure River   \n",
       "Debut_albums                                                                      Doggystyle   \n",
       "Year_of_birth_missing                                                          Ralph Neville   \n",
       "Windows_games                                                                    Half-Life 2   \n",
       "Indian_films                                                                          Sholay   \n",
       "Main_Belt_asteroids                                                          Cybele asteroid   \n",
       "Asteroids_named_for_people                                                       3356 Resnik   \n",
       "\n",
       "                                                                           Third  \n",
       "English_footballers                                                 Brian Clough  \n",
       "Living_people                                                       Bill Clinton  \n",
       "The_Football_League_players                                       Kenny Dalglish  \n",
       "Association_football_forwards                                      Robbie Fowler  \n",
       "Association_football_midfielders                                       Roy Keane  \n",
       "Article_Feedback_Pilot                                      West Ham United F.C.  \n",
       "Association_football_goalkeepers                                  Manuel Almunia  \n",
       "Association_football_defenders                                   Fernando Hierro  \n",
       "Harvard_University_alumni                                             John Adams  \n",
       "Major_League_Baseball_pitchers                                          Cy Young  \n",
       "English_cricketers                                                  Harry Altham  \n",
       "English-language_albums                                               Pet Sounds  \n",
       "English-language_films                              2001: A Space Odyssey (film)  \n",
       "American_films                                             Halloween (1978 film)  \n",
       "Fellows_of_the_Royal_Society                                   Benjamin Franklin  \n",
       "People_from_New_York_City                                     Theodore Roosevelt  \n",
       "American_television_actors                                        Clint Eastwood  \n",
       "American_film_actors                                               Marlon Brando  \n",
       "Black-and-white_films                                      Judgment at Nuremberg  \n",
       "Place_of_birth_missing_(living_people)                                John McNee  \n",
       "American_military_personnel_of_World_War_II                    Lyndon B. Johnson  \n",
       "Year_of_birth_missing_(living_people)                             Diana Hamilton  \n",
       "Members_of_the_United_Kingdom_Parliament_for_En...                Clement Attlee  \n",
       "English_television_actors                                           David Waller  \n",
       "British_films                                            Richard III (1955 film)  \n",
       "American_Jews                                                    Andrew Garfield  \n",
       "Year_of_birth_unknown                                                 Theocritus  \n",
       "Year_of_death_missing                                            Jack L. Collins  \n",
       "Rivers_of_Romania                                          Bistria River (Siret)  \n",
       "Debut_albums                                          Fallen (Evanescence album)  \n",
       "Year_of_birth_missing                                              Emlyn Jenkins  \n",
       "Windows_games                                                               Myst  \n",
       "Indian_films                                                             Chhalia  \n",
       "Main_Belt_asteroids                                                   3351 Smith  \n",
       "Asteroids_named_for_people                                           3354 McNair  "
      ]
     },
     "execution_count": 22,
     "metadata": {},
     "output_type": "execute_result"
    }
   ],
   "source": [
    "page_names = {}\n",
    "\n",
    "with open('wiki-topcats-page-names.txt', 'r') as f:\n",
    "    for line in f.readlines():\n",
    "        page_names[line[:line.index(' ')]] = line[line.index(' ')+1:].replace('\\n', '')\n",
    "\n",
    "df_result = pd.DataFrame(index=list(result.keys()), columns=['First', 'Second', 'Third'])\n",
    "for i,cat in enumerate(result):\n",
    "    first_3 = result[cat][:3]\n",
    "    for j, tuple_ in enumerate(first_3):\n",
    "        df_result.iloc[i][j] = page_names[str(tuple_[0])]\n",
    "        \n",
    "df_result"
   ]
  }
 ],
 "metadata": {
  "kernelspec": {
   "display_name": "Python 3",
   "language": "python",
   "name": "python3"
  },
  "language_info": {
   "codemirror_mode": {
    "name": "ipython",
    "version": 3
   },
   "file_extension": ".py",
   "mimetype": "text/x-python",
   "name": "python",
   "nbconvert_exporter": "python",
   "pygments_lexer": "ipython3",
   "version": "3.6.5"
  }
 },
 "nbformat": 4,
 "nbformat_minor": 2
}
